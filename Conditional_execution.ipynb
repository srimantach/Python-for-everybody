{
  "nbformat": 4,
  "nbformat_minor": 0,
  "metadata": {
    "colab": {
      "name": "Conditional execution.ipynb",
      "provenance": [],
      "collapsed_sections": [],
      "authorship_tag": "ABX9TyNT2HfGxkmL1uqdVYJo9WUf",
      "include_colab_link": true
    },
    "kernelspec": {
      "name": "python3",
      "display_name": "Python 3"
    },
    "language_info": {
      "name": "python"
    }
  },
  "cells": [
    {
      "cell_type": "markdown",
      "metadata": {
        "id": "view-in-github",
        "colab_type": "text"
      },
      "source": [
        "<a href=\"https://colab.research.google.com/github/srimantach/Python-for-everybody/blob/main/Conditional_execution.ipynb\" target=\"_parent\"><img src=\"https://colab.research.google.com/assets/colab-badge.svg\" alt=\"Open In Colab\"/></a>"
      ]
    },
    {
      "cell_type": "markdown",
      "source": [
        "**bold text**"
      ],
      "metadata": {
        "id": "3D3v5bIw6ItY"
      }
    },
    {
      "cell_type": "code",
      "execution_count": 8,
      "metadata": {
        "colab": {
          "base_uri": "https://localhost:8080/"
        },
        "id": "A6U5Ct-W5VYZ",
        "outputId": "74b0de1e-d694-4dfe-9574-2939edaf8ca9"
      },
      "outputs": [
        {
          "output_type": "stream",
          "name": "stdout",
          "text": [
            "x is positive\n",
            "Enter the number: 5\n",
            "Number is smaller than 20\n"
          ]
        }
      ],
      "source": [
        "#Chapter - Python For Everybody\n",
        "\n",
        "#Conditional execution\n",
        "\n",
        "#In order to write useful programs, we almost always need the ability to check conditions and change the behavior of the program accordingly. Conditional statements give us this ability. The simplest form is the if statement:\n",
        "\n",
        "x = 5\n",
        "if x > 0 :\n",
        "    print('x is positive')\n",
        "\n",
        "\n",
        "##Use of IF and ELSE Conditions\n",
        "# Conditional Operator\n",
        "# Check the number is greater than 20 or not?\n",
        "\n",
        "x = int(input(\"Enter the number: \"))\n",
        "if x < 20:\n",
        "  print(\"Number is smaller than 20\")\n",
        "else:\n",
        "  print(\"Number is larger than 20\")"
      ]
    },
    {
      "cell_type": "code",
      "source": [
        "## Use of IF, ELSE and ELIF Conditions\n",
        "# Conditional Operator\n",
        "# Check the number is greater than 20 or not?\n",
        "x = int(input(\"Enter the number: \"))\n",
        "if x < 20:\n",
        "  print(\"Number is smaller than 20\")\n",
        "elif x ==20:\n",
        "  print(\"Number is 20\")\n",
        "else:\n",
        "  print(\"Number is larger than 20\")\n"
      ],
      "metadata": {
        "colab": {
          "base_uri": "https://localhost:8080/"
        },
        "id": "gaFOulh77QrA",
        "outputId": "44e696a8-1876-48a7-a60a-55dd6794dcc8"
      },
      "execution_count": 9,
      "outputs": [
        {
          "output_type": "stream",
          "name": "stdout",
          "text": [
            "Enter the number: 7\n",
            "Number is smaller than 20\n"
          ]
        }
      ]
    },
    {
      "cell_type": "code",
      "source": [
        "##Repeated Operators\n",
        "x = int(input(\"Enter the number: \"))\n",
        "while x > 0:\n",
        "  print(x)\n",
        "  x = x - 1\n",
        "print(\"Endpoint!!\")"
      ],
      "metadata": {
        "colab": {
          "base_uri": "https://localhost:8080/"
        },
        "id": "-w7WXMjL8Lv7",
        "outputId": "2f698636-1772-4941-8c50-b86d26d28198"
      },
      "execution_count": 10,
      "outputs": [
        {
          "output_type": "stream",
          "name": "stdout",
          "text": [
            "Enter the number: 7\n",
            "7\n",
            "6\n",
            "5\n",
            "4\n",
            "3\n",
            "2\n",
            "1\n",
            "Endpoint!!\n"
          ]
        }
      ]
    },
    {
      "cell_type": "code",
      "source": [
        "##Write a program to find out the number is odd or even??\n",
        "#Odd and Even numbers\n",
        "# Write a program to print the number is even or odd?\n",
        "num = int(input(\"Enter the number: \"))\n",
        "if num%2==0:\n",
        "  print(\"Number is even\")\n",
        "else:\n",
        "  print(\"Number is odd\")"
      ],
      "metadata": {
        "colab": {
          "base_uri": "https://localhost:8080/"
        },
        "id": "YDAT6aQS8Vxp",
        "outputId": "625013ef-61e7-4329-f532-80124faa07c8"
      },
      "execution_count": 11,
      "outputs": [
        {
          "output_type": "stream",
          "name": "stdout",
          "text": [
            "Enter the number: 7\n",
            "Number is odd\n"
          ]
        }
      ]
    },
    {
      "cell_type": "code",
      "source": [
        ""
      ],
      "metadata": {
        "id": "ZO8LWllM8g8L"
      },
      "execution_count": 11,
      "outputs": []
    }
  ]
}