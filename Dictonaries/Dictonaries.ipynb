{
  "nbformat": 4,
  "nbformat_minor": 0,
  "metadata": {
    "colab": {
      "name": "Dictonaries.ipynb",
      "provenance": [],
      "collapsed_sections": [],
      "authorship_tag": "ABX9TyOsW6bWTGoO3UZyT5OoF85T",
      "include_colab_link": true
    },
    "kernelspec": {
      "name": "python3",
      "display_name": "Python 3"
    },
    "language_info": {
      "name": "python"
    }
  },
  "cells": [
    {
      "cell_type": "markdown",
      "metadata": {
        "id": "view-in-github",
        "colab_type": "text"
      },
      "source": [
        "<a href=\"https://colab.research.google.com/github/srimantach/Python-for-everybody/blob/main/Dictonaries.ipynb\" target=\"_parent\"><img src=\"https://colab.research.google.com/assets/colab-badge.svg\" alt=\"Open In Colab\"/></a>"
      ]
    },
    {
      "cell_type": "code",
      "execution_count": null,
      "metadata": {
        "id": "NsD6uU9l9O5b"
      },
      "outputs": [],
      "source": [
        "## Chapter - Python for Everybody\n",
        "## Dictonaries\n",
        "## A dictionary is like a list, but more general. In a list, the index positions have to be integers; in a dictionary, the indices can be (almost) any type.\n",
        "\n",
        "## You can think of a dictionary as a mapping between a set of indices (which are called keys) and a set of values. Each key maps to a value. The association of a key and a value is called a key-value pair or sometimes an item.\n",
        "\n",
        "j = dict()\n",
        "print(j)\n",
        "{}\n",
        "## The curly brackets, { }, represent an empty dictionary. To add items to the dictionary, you can use square brackets:\n",
        "\n",
        "j['mobile']= 'samsung'\n",
        "j['car']= 'toyota'\n",
        "j['laptop']= 'asus'\n",
        "\n",
        "print(j)\n",
        "{'mobile': 'samsung', 'car': 'toyota', 'laptop': 'asus'}\n",
        "\n",
        "## Dictonaries are mutable\n",
        "\n",
        "print(j)\n",
        "j['mobile']= \"apple\"\n",
        "print(j)\n",
        "{'mobile': 'samsung', 'car': 'toyota', 'laptop': 'asus'}\n",
        "{'mobile': 'apple', 'car': 'toyota', 'laptop': 'asus'}\n",
        "\n",
        "## Looping and dictionaries\n",
        "\n",
        "count = {}\n",
        "names = ['abs', 'bss', 'knn', 'okol', 'abs', 'abs', 'bss']\n",
        "for name in names:\n",
        "  if name not in count:\n",
        "    count[name] = 1\n",
        "  else:\n",
        "    count[name]= count[name] + 1\n",
        "print(count)\n",
        "{'abs': 3, 'bss': 2, 'knn': 1, 'okol': 1}\n",
        "\n",
        "## GET method\n",
        "\n",
        "count = dict()\n",
        "line = input(\"Enter the line: \")\n",
        "words= line.split(\" \")\n",
        "\n",
        "print(\"Words:\", words)\n",
        "\n",
        "for word in words:\n",
        "  count[word]= count.get(word,0) + 1\n",
        "\n",
        "print(\"Count: \", count)\n",
        "Enter the line: This Python 3 tutorial course aims to teach everyone the basics of programming computers using Python. The course has no pre-requisites and avoids all but the simplest mathematics.\n",
        "Words: ['This', 'Python', '3', 'tutorial', 'course', 'aims', 'to', 'teach', 'everyone', 'the', 'basics', 'of', 'programming', 'computers', 'using', 'Python.', 'The', 'course', 'has', 'no', 'pre-requisites', 'and', 'avoids', 'all', 'but', 'the', 'simplest', 'mathematics.']\n",
        "Count:  {'This': 1, 'Python': 1, '3': 1, 'tutorial': 1, 'course': 2, 'aims': 1, 'to': 1, 'teach': 1, 'everyone': 1, 'the': 2, 'basics': 1, 'of': 1, 'programming': 1, 'computers': 1, 'using': 1, 'Python.': 1, 'The': 1, 'has': 1, 'no': 1, 'pre-requisites': 1, 'and': 1, 'avoids': 1, 'all': 1, 'but': 1, 'simplest': 1, 'mathematics.': 1}"
      ]
    }
  ]
}