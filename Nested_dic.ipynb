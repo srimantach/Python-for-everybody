{
  "nbformat": 4,
  "nbformat_minor": 0,
  "metadata": {
    "colab": {
      "name": "Nested dic.ipynb",
      "provenance": [],
      "collapsed_sections": [],
      "authorship_tag": "ABX9TyO3T9EUde4BVXeyOy6WMaru",
      "include_colab_link": true
    },
    "kernelspec": {
      "name": "python3",
      "display_name": "Python 3"
    },
    "language_info": {
      "name": "python"
    }
  },
  "cells": [
    {
      "cell_type": "markdown",
      "metadata": {
        "id": "view-in-github",
        "colab_type": "text"
      },
      "source": [
        "<a href=\"https://colab.research.google.com/github/srimantach/Python-for-everybody/blob/main/Nested_dic.ipynb\" target=\"_parent\"><img src=\"https://colab.research.google.com/assets/colab-badge.svg\" alt=\"Open In Colab\"/></a>"
      ]
    },
    {
      "cell_type": "code",
      "execution_count": null,
      "metadata": {
        "colab": {
          "base_uri": "https://localhost:8080/"
        },
        "id": "hyDe-DAu0CsW",
        "outputId": "21f79a5b-d2c1-4545-b0ec-a07e00ee77aa"
      },
      "outputs": [
        {
          "output_type": "stream",
          "name": "stdout",
          "text": [
            "{1: {'name': 'John', 'age': '27', 'sex': 'Male'}, 2: {'name': 'Marie', 'age': '22', 'sex': 'Female'}}\n"
          ]
        }
      ],
      "source": [
        "people = {1: {'name': 'John', 'age': '27', 'sex': 'Male'},\n",
        "          2: {'name': 'Marie', 'age': '22', 'sex': 'Female'}}\n",
        "\n",
        "print(people)"
      ]
    },
    {
      "cell_type": "code",
      "source": [
        "people = {1: {'name': 'John', 'age': '27', 'sex': 'Male'},\n",
        "          2: {'name': 'Marie', 'age': '22', 'sex': 'Female'}}\n",
        "\n",
        "print(people[1]['name'])\n",
        "print(people[1]['age'])\n",
        "print(people[1]['sex'])"
      ],
      "metadata": {
        "colab": {
          "base_uri": "https://localhost:8080/"
        },
        "id": "0VHRbFnY02RU",
        "outputId": "088ac2d7-0ef8-4155-f688-25ff33e984b2"
      },
      "execution_count": null,
      "outputs": [
        {
          "output_type": "stream",
          "name": "stdout",
          "text": [
            "John\n",
            "27\n",
            "Male\n"
          ]
        }
      ]
    },
    {
      "cell_type": "code",
      "source": [
        "##Add element to a Nested Dictionary\n",
        "people = {1: {'name': 'John', 'age': '27', 'sex': 'Male'},\n",
        "          2: {'name': 'Marie', 'age': '22', 'sex': 'Female'}}\n",
        "\n",
        "people[3] = {}\n",
        "\n",
        "people[3]['name'] = 'Luna'\n",
        "people[3]['age'] = '24'\n",
        "people[3]['sex'] = 'Female'\n",
        "people[3]['married'] = 'No'\n",
        "\n",
        "print(people[3])"
      ],
      "metadata": {
        "colab": {
          "base_uri": "https://localhost:8080/"
        },
        "id": "HHi1m2KV1Kjp",
        "outputId": "0e312049-c312-45ab-fb2e-72bb80392ef3"
      },
      "execution_count": null,
      "outputs": [
        {
          "output_type": "stream",
          "name": "stdout",
          "text": [
            "{'name': 'Luna', 'age': '24', 'sex': 'Female', 'married': 'No'}\n"
          ]
        }
      ]
    },
    {
      "cell_type": "code",
      "source": [
        "## Delete elements from a Nested Dictionary\n",
        "people = {1: {'name': 'John', 'age': '27', 'sex': 'Male'},\n",
        "          2: {'name': 'Marie', 'age': '22', 'sex': 'Female'},\n",
        "          3: {'name': 'Luna', 'age': '24', 'sex': 'Female', 'married': 'No'},\n",
        "          4: {'name': 'Peter', 'age': '29', 'sex': 'Male', 'married': 'Yes'}}\n",
        "\n",
        "del people[3]['married']\n",
        "del people[4]['married']\n",
        "\n",
        "print(people[3])\n",
        "print(people[4])"
      ],
      "metadata": {
        "colab": {
          "base_uri": "https://localhost:8080/"
        },
        "id": "hbpCjcIK1tfc",
        "outputId": "b8dabe30-fbbf-49fa-e40f-4c6041ff1243"
      },
      "execution_count": null,
      "outputs": [
        {
          "output_type": "stream",
          "name": "stdout",
          "text": [
            "{'name': 'Luna', 'age': '24', 'sex': 'Female'}\n",
            "{'name': 'Peter', 'age': '29', 'sex': 'Male'}\n"
          ]
        }
      ]
    },
    {
      "cell_type": "code",
      "source": [
        "## Iterating Through a Nested Dictionary\n",
        "\n",
        "people = {1: {'Name': 'John', 'Age': '27', 'Sex': 'Male'},\n",
        "          2: {'Name': 'Marie', 'Age': '22', 'Sex': 'Female'}}\n",
        "\n",
        "for p_id, p_info in people.items():\n",
        "    print(\"\\nPerson ID:\", p_id)\n",
        "    \n",
        "    for key in p_info:\n",
        "        print(key + ':', p_info[key])"
      ],
      "metadata": {
        "colab": {
          "base_uri": "https://localhost:8080/"
        },
        "id": "vh90O-OR27E2",
        "outputId": "c103098d-05f3-4884-d377-0343cdf5f167"
      },
      "execution_count": null,
      "outputs": [
        {
          "output_type": "stream",
          "name": "stdout",
          "text": [
            "\n",
            "Person ID: 1\n",
            "Name: John\n",
            "Age: 27\n",
            "Sex: Male\n",
            "\n",
            "Person ID: 2\n",
            "Name: Marie\n",
            "Age: 22\n",
            "Sex: Female\n"
          ]
        }
      ]
    },
    {
      "cell_type": "code",
      "source": [
        ""
      ],
      "metadata": {
        "id": "H3ZYWmYJX7Iq"
      },
      "execution_count": null,
      "outputs": []
    }
  ]
}