{
  "nbformat": 4,
  "nbformat_minor": 0,
  "metadata": {
    "colab": {
      "name": "Object_oriented_programming.ipynb",
      "provenance": [],
      "collapsed_sections": [],
      "authorship_tag": "ABX9TyOxvE7D6koD82cvgUkkEgAQ",
      "include_colab_link": true
    },
    "kernelspec": {
      "name": "python3",
      "display_name": "Python 3"
    },
    "language_info": {
      "name": "python"
    }
  },
  "cells": [
    {
      "cell_type": "markdown",
      "metadata": {
        "id": "view-in-github",
        "colab_type": "text"
      },
      "source": [
        "<a href=\"https://colab.research.google.com/github/srimantach/Python-for-everybody/blob/main/Object_oriented_programming.ipynb\" target=\"_parent\"><img src=\"https://colab.research.google.com/assets/colab-badge.svg\" alt=\"Open In Colab\"/></a>"
      ]
    },
    {
      "cell_type": "code",
      "execution_count": 1,
      "metadata": {
        "colab": {
          "base_uri": "https://localhost:8080/"
        },
        "id": "rW2E_dEm8wLd",
        "outputId": "5252644b-d03e-44ff-d03a-0618f111cde5"
      },
      "outputs": [
        {
          "output_type": "stream",
          "name": "stdout",
          "text": [
            "So far 1\n",
            "So far 2\n",
            "So far 3\n",
            "So far 4\n"
          ]
        }
      ],
      "source": [
        "## Chapter - Python for Everybody\n",
        "## Object-oriented programming\n",
        "## Like many aspects of programming, it is necessary to learn the concepts of object oriented programming before you can use them effectively. \n",
        "## You should approach this chapter as a way to learn some terms and concepts and work through a few simple examples to lay a foundation for future learning.\n",
        "\n",
        "## The key outcome of this chapter is to have a basic understanding of how objects are constructed and how they function and most importantly how we make use of the capabilities of objects that are provided to us by Python and Python libraries.\n",
        "\n",
        "## Our first Python object\n",
        "\n",
        "class PartyAnimal:\n",
        "   x = 0\n",
        "\n",
        "   def party(self) :\n",
        "     self.x = self.x + 1\n",
        "     print(\"So far\",self.x)\n",
        "\n",
        "an = PartyAnimal()\n",
        "an.party()\n",
        "an.party()\n",
        "an.party()\n",
        "PartyAnimal.party(an)"
      ]
    },
    {
      "cell_type": "code",
      "source": [
        "## Classes as types\n",
        "\n",
        "class PartyAnimal:\n",
        "   x = 0\n",
        "\n",
        "   def party(self) :\n",
        "     self.x = self.x + 1\n",
        "     print(\"So far\",self.x)\n",
        "\n",
        "an = PartyAnimal()\n",
        "print (\"Type\", type(an))\n",
        "print (\"Dir \", dir(an))\n",
        "print (\"Type\", type(an.x))\n",
        "print (\"Type\", type(an.party))"
      ],
      "metadata": {
        "colab": {
          "base_uri": "https://localhost:8080/"
        },
        "id": "b4DAWk-tMZ_b",
        "outputId": "0d070159-2d50-4d00-883f-0d96fcb4b8b1"
      },
      "execution_count": 2,
      "outputs": [
        {
          "output_type": "stream",
          "name": "stdout",
          "text": [
            "Type <class '__main__.PartyAnimal'>\n",
            "Dir  ['__class__', '__delattr__', '__dict__', '__dir__', '__doc__', '__eq__', '__format__', '__ge__', '__getattribute__', '__gt__', '__hash__', '__init__', '__init_subclass__', '__le__', '__lt__', '__module__', '__ne__', '__new__', '__reduce__', '__reduce_ex__', '__repr__', '__setattr__', '__sizeof__', '__str__', '__subclasshook__', '__weakref__', 'party', 'x']\n",
            "Type <class 'int'>\n",
            "Type <class 'method'>\n"
          ]
        }
      ]
    },
    {
      "cell_type": "code",
      "source": [
        "## Multiple instances\n",
        "\n",
        "class PartyAnimal:\n",
        "   x = 0\n",
        "   name = ''\n",
        "   def __init__(self, nam):\n",
        "     self.name = nam\n",
        "     print(self.name,'constructed')\n",
        "\n",
        "   def party(self) :\n",
        "     self.x = self.x + 1\n",
        "     print(self.name,'party count',self.x)\n",
        "\n",
        "s = PartyAnimal('Sally')\n",
        "j = PartyAnimal('Jim')\n",
        "\n",
        "s.party()\n",
        "j.party()\n",
        "s.party()"
      ],
      "metadata": {
        "colab": {
          "base_uri": "https://localhost:8080/"
        },
        "id": "19IVKJHoM4ax",
        "outputId": "54ba97ba-8732-4fe5-bcd7-fa9e6dbb7e86"
      },
      "execution_count": 4,
      "outputs": [
        {
          "output_type": "stream",
          "name": "stdout",
          "text": [
            "Sally constructed\n",
            "Jim constructed\n",
            "Sally party count 1\n",
            "Jim party count 1\n",
            "Sally party count 2\n"
          ]
        }
      ]
    },
    {
      "cell_type": "code",
      "source": [
        "class PartyAnimal:\n",
        "   x = 0\n",
        "\n",
        "   def __init__(self):\n",
        "     print('I am constructed')\n",
        "\n",
        "   def party(self) :\n",
        "     self.x = self.x + 1\n",
        "     print('So far',self.x)\n",
        "\n",
        "   def __del__(self):\n",
        "     print('I am destructed', self.x)\n",
        "\n",
        "an = PartyAnimal()\n",
        "an.party()\n",
        "an.party()\n",
        "an = 42\n",
        "print('an contains',an)"
      ],
      "metadata": {
        "colab": {
          "base_uri": "https://localhost:8080/"
        },
        "id": "DkCqsixrMzT0",
        "outputId": "4ae49578-3207-4450-9048-74173c93c558"
      },
      "execution_count": 8,
      "outputs": [
        {
          "output_type": "stream",
          "name": "stdout",
          "text": [
            "I am constructed\n",
            "So far 1\n",
            "So far 2\n",
            "I am destructed 2\n",
            "an contains 42\n"
          ]
        }
      ]
    }
  ]
}