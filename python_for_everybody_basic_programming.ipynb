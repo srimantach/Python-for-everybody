{
  "nbformat": 4,
  "nbformat_minor": 0,
  "metadata": {
    "colab": {
      "name": "python for everybody basic programming.ipynb",
      "provenance": [],
      "collapsed_sections": [],
      "authorship_tag": "ABX9TyO/AHYpJQmvO/fZXG3AXjbQ",
      "include_colab_link": true
    },
    "kernelspec": {
      "name": "python3",
      "display_name": "Python 3"
    },
    "language_info": {
      "name": "python"
    }
  },
  "cells": [
    {
      "cell_type": "markdown",
      "metadata": {
        "id": "view-in-github",
        "colab_type": "text"
      },
      "source": [
        "<a href=\"https://colab.research.google.com/github/srimantach/Python-for-everybody/blob/main/python_for_everybody_basic_programming.ipynb\" target=\"_parent\"><img src=\"https://colab.research.google.com/assets/colab-badge.svg\" alt=\"Open In Colab\"/></a>"
      ]
    },
    {
      "cell_type": "code",
      "execution_count": 7,
      "metadata": {
        "id": "TB5MRsKadcCk",
        "colab": {
          "base_uri": "https://localhost:8080/"
        },
        "outputId": "23cb8c07-ea4f-4a3d-89d8-5b65eee2242d"
      },
      "outputs": [
        {
          "output_type": "stream",
          "name": "stdout",
          "text": [
            "smaller\n",
            "finish\n"
          ]
        }
      ],
      "source": [
        "# Conditional Step\n",
        "x=5\n",
        "if x<10:\n",
        "  print(\"smaller\")\n",
        "if x>20:\n",
        "    print(\"bigger\")\n",
        "    \n",
        "print(\"finish\") "
      ]
    },
    {
      "cell_type": "code",
      "source": [
        "## Repeated Step\n",
        "n=5\n",
        "while n>0:\n",
        "     print(n)\n",
        "     n=n-1\n",
        "print(\"blastoff\")\n"
      ],
      "metadata": {
        "colab": {
          "base_uri": "https://localhost:8080/"
        },
        "id": "OShk_0avnSnA",
        "outputId": "a41c904d-e89d-4774-cc6e-710c2a717212"
      },
      "execution_count": 4,
      "outputs": [
        {
          "output_type": "stream",
          "name": "stdout",
          "text": [
            "5\n",
            "4\n",
            "3\n",
            "2\n",
            "1\n",
            "blastoff\n"
          ]
        }
      ]
    },
    {
      "cell_type": "code",
      "source": [
        "#addition,subtraction,multiplicatin\n",
        "#Addition\n",
        "add = 5 + 2\n",
        "print (\"Addition: %d\" %add)\n",
        " \n",
        "#Subtraction\n",
        "sub = 5 - 2\n",
        "print (\"Subtraction: %d\" %sub)\n",
        " \n",
        "#Multiplication\n",
        "mul = 5 * 2\n",
        "print (\"Multiplication: %d\" %mul)\n",
        " \n",
        "#Division\n",
        "div = 5 / 2\n",
        "print (\"Division: %.2f\" %div)"
      ],
      "metadata": {
        "colab": {
          "base_uri": "https://localhost:8080/"
        },
        "id": "-HjmdbZA3XFh",
        "outputId": "534277df-1928-4ee0-fd9d-179a6e25f6b6"
      },
      "execution_count": 1,
      "outputs": [
        {
          "output_type": "stream",
          "name": "stdout",
          "text": [
            "Addition: 7\n",
            "Subtraction: 3\n",
            "Multiplication: 10\n",
            "Division: 2.50\n"
          ]
        }
      ]
    },
    {
      "cell_type": "code",
      "source": [
        ""
      ],
      "metadata": {
        "id": "8rv65kPciOxF"
      },
      "execution_count": null,
      "outputs": []
    }
  ]
}